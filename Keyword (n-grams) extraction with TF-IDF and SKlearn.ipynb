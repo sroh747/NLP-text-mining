{
 "cells": [
  {
   "cell_type": "markdown",
   "metadata": {},
   "source": [
    "# Keyword (n-grams) extraction with TF-IDF and SKlearn (based on title and description fields)"
   ]
  },
  {
   "cell_type": "markdown",
   "metadata": {},
   "source": [
    "# Defining constants and variables"
   ]
  },
  {
   "cell_type": "code",
   "execution_count": 283,
   "metadata": {},
   "outputs": [],
   "source": [
    "import fnmatch\n",
    "import os"
   ]
  },
  {
   "cell_type": "code",
   "execution_count": 284,
   "metadata": {},
   "outputs": [
    {
     "name": "stdout",
     "output_type": "stream",
     "text": [
      "incidents.xlsx\n"
     ]
    }
   ],
   "source": [
    "\n",
    "\n",
    "myFileName = ''\n",
    "for file in os.listdir('./data'):\n",
    "    if fnmatch.fnmatch(file, 'incid*'):\n",
    "        print(file)\n",
    "        myFileName = file"
   ]
  },
  {
   "cell_type": "code",
   "execution_count": 285,
   "metadata": {},
   "outputs": [
    {
     "data": {
      "text/plain": [
       "'incidents.xlsx'"
      ]
     },
     "execution_count": 285,
     "metadata": {},
     "output_type": "execute_result"
    }
   ],
   "source": [
    "myFileName"
   ]
  },
  {
   "cell_type": "code",
   "execution_count": 286,
   "metadata": {},
   "outputs": [],
   "source": [
    "# filename = r'\\\\drive\\data_hub\\raw_data'+'\\\\'+myFileName\n",
    "filename = r'data/'+myFileName+''\n",
    "column_names = ['incident_id', 'status', 'name', 'period', 'description']"
   ]
  },
  {
   "cell_type": "markdown",
   "metadata": {},
   "source": [
    "# Dataset | Loading"
   ]
  },
  {
   "cell_type": "code",
   "execution_count": 287,
   "metadata": {},
   "outputs": [],
   "source": [
    "import pandas as pd\n",
    "df_idf = pd.read_excel(r''+filename+'', index_col=None, na_values=['NA'])"
   ]
  },
  {
   "cell_type": "code",
   "execution_count": 288,
   "metadata": {},
   "outputs": [
    {
     "name": "stdout",
     "output_type": "stream",
     "text": [
      "Schema:\n",
      "\n",
      " incident_id     int64\n",
      "status         object\n",
      "name           object\n",
      "period         object\n",
      "description    object\n",
      "dtype: object\n",
      "Number of questions, columns= (10, 5)\n"
     ]
    }
   ],
   "source": [
    "print(\"Schema:\\n\\n\", df_idf.dtypes)\n",
    "print(\"Number of questions, columns=\", df_idf.shape)"
   ]
  },
  {
   "cell_type": "code",
   "execution_count": 289,
   "metadata": {},
   "outputs": [
    {
     "data": {
      "text/html": [
       "<div>\n",
       "<style scoped>\n",
       "    .dataframe tbody tr th:only-of-type {\n",
       "        vertical-align: middle;\n",
       "    }\n",
       "\n",
       "    .dataframe tbody tr th {\n",
       "        vertical-align: top;\n",
       "    }\n",
       "\n",
       "    .dataframe thead th {\n",
       "        text-align: right;\n",
       "    }\n",
       "</style>\n",
       "<table border=\"1\" class=\"dataframe\">\n",
       "  <thead>\n",
       "    <tr style=\"text-align: right;\">\n",
       "      <th></th>\n",
       "      <th>incident_id</th>\n",
       "      <th>status</th>\n",
       "      <th>name</th>\n",
       "      <th>period</th>\n",
       "      <th>description</th>\n",
       "    </tr>\n",
       "  </thead>\n",
       "  <tbody>\n",
       "    <tr>\n",
       "      <td>0</td>\n",
       "      <td>1</td>\n",
       "      <td>Open</td>\n",
       "      <td>Hidden Financial Risks That Regulators Miss</td>\n",
       "      <td>2021-02</td>\n",
       "      <td>Behavioral economists have shown that people a...</td>\n",
       "    </tr>\n",
       "    <tr>\n",
       "      <td>1</td>\n",
       "      <td>2</td>\n",
       "      <td>Closed</td>\n",
       "      <td>Environmental, social and governance issues</td>\n",
       "      <td>2021-01</td>\n",
       "      <td>brings to mind environmental issues like clima...</td>\n",
       "    </tr>\n",
       "    <tr>\n",
       "      <td>2</td>\n",
       "      <td>3</td>\n",
       "      <td>Draft</td>\n",
       "      <td>Cybersecurity</td>\n",
       "      <td>2021-01</td>\n",
       "      <td>unwanted or unexpected cyber security event</td>\n",
       "    </tr>\n",
       "    <tr>\n",
       "      <td>3</td>\n",
       "      <td>4</td>\n",
       "      <td>Cancelled</td>\n",
       "      <td>Credit</td>\n",
       "      <td>2021-03</td>\n",
       "      <td>possibility of a loss resulting from a borrowe...</td>\n",
       "    </tr>\n",
       "    <tr>\n",
       "      <td>4</td>\n",
       "      <td>5</td>\n",
       "      <td>Draft</td>\n",
       "      <td>Regulatory/compliance</td>\n",
       "      <td>2021-03</td>\n",
       "      <td>organization's adherence to laws, regulations,...</td>\n",
       "    </tr>\n",
       "  </tbody>\n",
       "</table>\n",
       "</div>"
      ],
      "text/plain": [
       "   incident_id     status                                         name  \\\n",
       "0            1       Open  Hidden Financial Risks That Regulators Miss   \n",
       "1            2     Closed  Environmental, social and governance issues   \n",
       "2            3      Draft                                Cybersecurity   \n",
       "3            4  Cancelled                                       Credit   \n",
       "4            5      Draft                        Regulatory/compliance   \n",
       "\n",
       "    period                                        description  \n",
       "0  2021-02  Behavioral economists have shown that people a...  \n",
       "1  2021-01  brings to mind environmental issues like clima...  \n",
       "2  2021-01        unwanted or unexpected cyber security event  \n",
       "3  2021-03  possibility of a loss resulting from a borrowe...  \n",
       "4  2021-03  organization's adherence to laws, regulations,...  "
      ]
     },
     "execution_count": 289,
     "metadata": {},
     "output_type": "execute_result"
    }
   ],
   "source": [
    "df_idf.head()"
   ]
  },
  {
   "cell_type": "markdown",
   "metadata": {},
   "source": [
    "# Data Preparation"
   ]
  },
  {
   "cell_type": "markdown",
   "metadata": {},
   "source": [
    "## Selecting one reporting period (optional)"
   ]
  },
  {
   "cell_type": "code",
   "execution_count": 290,
   "metadata": {},
   "outputs": [],
   "source": [
    "#df_idf = df_idf[df_idf['period']=='2021-02']"
   ]
  },
  {
   "cell_type": "markdown",
   "metadata": {},
   "source": [
    "## Triming away unnecessary fields/columns"
   ]
  },
  {
   "cell_type": "code",
   "execution_count": 291,
   "metadata": {},
   "outputs": [
    {
     "data": {
      "text/plain": [
       "incident_id    10\n",
       "status         10\n",
       "name           10\n",
       "period         10\n",
       "description    10\n",
       "dtype: int64"
      ]
     },
     "execution_count": 291,
     "metadata": {},
     "output_type": "execute_result"
    }
   ],
   "source": [
    "df_idf = df_idf[column_names]\n",
    "df_idf.count()"
   ]
  },
  {
   "cell_type": "markdown",
   "metadata": {},
   "source": [
    "## Filtering out Incidents that contain \"nan\""
   ]
  },
  {
   "cell_type": "code",
   "execution_count": 292,
   "metadata": {},
   "outputs": [],
   "source": [
    "#df_idf = df.idf.loc[(df_idf['name'].astype(str) != 'nan')]"
   ]
  },
  {
   "cell_type": "code",
   "execution_count": 293,
   "metadata": {},
   "outputs": [
    {
     "name": "stdout",
     "output_type": "stream",
     "text": [
      "Number of questions, columns= (10, 5)\n"
     ]
    }
   ],
   "source": [
    "print(\"Number of questions, columns=\", df_idf.shape)"
   ]
  },
  {
   "cell_type": "markdown",
   "metadata": {},
   "source": [
    "## Concatenating various fields in a new dedicated column"
   ]
  },
  {
   "cell_type": "code",
   "execution_count": 294,
   "metadata": {},
   "outputs": [],
   "source": [
    "# Cleansing | getting rid of rows having null values for Incident description field\n",
    "#df_idf = df_idf[~df_idf['description'].isnull()]"
   ]
  },
  {
   "cell_type": "code",
   "execution_count": 295,
   "metadata": {},
   "outputs": [],
   "source": [
    "df_idf['text to be mined'] = df_idf['name'].fillna(\"\") + ' ' + df_idf['description'].fillna(\"\")"
   ]
  },
  {
   "cell_type": "code",
   "execution_count": 296,
   "metadata": {},
   "outputs": [
    {
     "name": "stdout",
     "output_type": "stream",
     "text": [
      "Number of questions, columns= (10, 6)\n"
     ]
    }
   ],
   "source": [
    "print(\"Number of questions, columns=\", df_idf.shape)"
   ]
  },
  {
   "cell_type": "markdown",
   "metadata": {},
   "source": [
    "## Pre-processing method (lower case, removing tags, etc.)"
   ]
  },
  {
   "cell_type": "code",
   "execution_count": 297,
   "metadata": {},
   "outputs": [],
   "source": [
    "import re"
   ]
  },
  {
   "cell_type": "code",
   "execution_count": 298,
   "metadata": {},
   "outputs": [],
   "source": [
    "def pre_process(text):\n",
    "    text = text.lower()\n",
    "    \n",
    "    text = re.sub(r'[\\.]', '', text)\n",
    "    \n",
    "    # Replace any character presents with a space except letters from a to z\n",
    "    text = re.sub(r'[^a-z]', ' ', text)\n",
    "    # text = re.sub(r'[^a-zA-Z]', ' ', text)\n",
    "    \n",
    "    # Remove tags\n",
    "    # text = re.sub(r\"&lt;/?.*?&gt;\", \" &lt;&gt; \", text)\n",
    "    \n",
    "    # Remove special characters and digits\n",
    "    # text = re.sub(r\"(\\\\d|\\\\W)+\", \" \", text)\n",
    "    \n",
    "    # Remove non-desired sentences\n",
    "    text = re.sub('TOPIC1', '', text)\n",
    "    text = re.sub('TOPIC2', '', text)\n",
    "    text = re.sub('TOPIC3', '', text)\n",
    "    \n",
    "    # Remove double spaces or more\n",
    "    text = re.sub(' +', ' ', text)\n",
    "    \n",
    "    # Correcting typos in the text (a dedicated dictionary could be created)\n",
    "    text = re.sub('invetment', 'investment', text)\n",
    "    text = re.sub('incorrcet', 'incorrect', text)\n",
    "    text = re.sub('encrpytion', 'encryption', text)\n",
    "    \n",
    "    \n",
    "    # Adapting abbreviations\n",
    "    text = re.sub('swiss airlines', 'swissair', text)\n",
    "    text = re.sub('guzman and gomez', 'guzman y gomez', text)\n",
    "    text = re.sub('guzman & gomez', 'guzman y gomez', text)\n",
    "    text = re.sub('guzman/gomez', 'guzman y gomez', text)\n",
    "    \n",
    "    return text\n",
    "    "
   ]
  },
  {
   "cell_type": "markdown",
   "metadata": {},
   "source": [
    "## Calling pre-processing method\n",
    "\n",
    "A lambda function is a small anonymous function | it can take any number of arguments, but can only have one expression:\n",
    "e.g. x = lambda a, b: a * b\n",
    "print(x(5, 6))"
   ]
  },
  {
   "cell_type": "code",
   "execution_count": 299,
   "metadata": {},
   "outputs": [],
   "source": [
    "df_idf['text to be mined'] = df_idf['text to be mined'].apply(lambda x:pre_process(x))"
   ]
  },
  {
   "cell_type": "code",
   "execution_count": 300,
   "metadata": {},
   "outputs": [
    {
     "name": "stdout",
     "output_type": "stream",
     "text": [
      "Number of questions, columns= (10, 6)\n"
     ]
    }
   ],
   "source": [
    "print(\"Number of questions, columns=\", df_idf.shape)"
   ]
  },
  {
   "cell_type": "markdown",
   "metadata": {},
   "source": [
    "## Retrieving the length and number of words"
   ]
  },
  {
   "cell_type": "code",
   "execution_count": 301,
   "metadata": {},
   "outputs": [],
   "source": [
    "df_idf['length'] = df_idf['text to be mined'].astype(str).apply(len)\n",
    "df_idf['word_count'] = df_idf['text to be mined'].apply(lambda x: len(str(x).split()))"
   ]
  },
  {
   "cell_type": "markdown",
   "metadata": {},
   "source": [
    "## Creating a list of words | Convert to string (using .str or astype(str)) + split()"
   ]
  },
  {
   "cell_type": "code",
   "execution_count": 302,
   "metadata": {},
   "outputs": [
    {
     "data": {
      "text/plain": [
       "0    [hidden, financial, risks, that, regulators, m...\n",
       "1    [environmental, social, and, governance, issue...\n",
       "2    [cybersecurity, unwanted, or, unexpected, cybe...\n",
       "3    [credit, possibility, of, a, loss, resulting, ...\n",
       "4    [regulatory, compliance, organization, s, adhe...\n",
       "5    [strategic, arise, from, the, fundamental, dec...\n",
       "6    [operational, resilience, entity, s, ability, ...\n",
       "7    [conduct, and, culture, inappropriate, unethic...\n",
       "8    [reputation, poor, coordination, of, the, deci...\n",
       "9    [perceived, reputational, risk, oil, drillers,...\n",
       "Name: raw text, dtype: object"
      ]
     },
     "execution_count": 302,
     "metadata": {},
     "output_type": "execute_result"
    }
   ],
   "source": [
    "df_idf['raw text'] = df_idf['text to be mined'].str.split()\n",
    "\n",
    "df_idf['raw text'][:10]"
   ]
  },
  {
   "cell_type": "markdown",
   "metadata": {},
   "source": [
    "## Capitalising entity names\n",
    "\n",
    "Necessary so that, for instance, 'cbas' doesn't get transformed into 'cba' when lemmatized.\n",
    "\n",
    "'CBAS' --> lemmatized --> 'CBAS'\n",
    "'cbas' --> lemmatized --> 'cba'"
   ]
  },
  {
   "cell_type": "code",
   "execution_count": 303,
   "metadata": {},
   "outputs": [],
   "source": [
    "def capitalising_entity_names(text):\n",
    "    if(text.strip()=='swiss'):\n",
    "        text = 'SWISS'\n",
    "        \n",
    "    if(text.strip()=='nsw'):\n",
    "        text = 'NSW'     \n",
    "        \n",
    "    if(text.strip()=='vs'):\n",
    "        text = 'VS'          \n",
    "        \n",
    "    return text"
   ]
  },
  {
   "cell_type": "code",
   "execution_count": 304,
   "metadata": {},
   "outputs": [],
   "source": [
    "df_idf['raw text'] = df_idf['raw text'].apply(lambda x: [capitalising_entity_names(y) for y in x])"
   ]
  },
  {
   "cell_type": "code",
   "execution_count": 305,
   "metadata": {},
   "outputs": [
    {
     "data": {
      "text/plain": [
       "0    [hidden, financial, risks, that, regulators, m...\n",
       "1    [environmental, social, and, governance, issue...\n",
       "2    [cybersecurity, unwanted, or, unexpected, cybe...\n",
       "3    [credit, possibility, of, a, loss, resulting, ...\n",
       "4    [regulatory, compliance, organization, s, adhe...\n",
       "5    [strategic, arise, from, the, fundamental, dec...\n",
       "6    [operational, resilience, entity, s, ability, ...\n",
       "7    [conduct, and, culture, inappropriate, unethic...\n",
       "8    [reputation, poor, coordination, of, the, deci...\n",
       "9    [perceived, reputational, risk, oil, drillers,...\n",
       "Name: raw text, dtype: object"
      ]
     },
     "execution_count": 305,
     "metadata": {},
     "output_type": "execute_result"
    }
   ],
   "source": [
    "df_idf['raw text'][:10]"
   ]
  },
  {
   "cell_type": "markdown",
   "metadata": {},
   "source": [
    "# Stemming or Lemmatization"
   ]
  },
  {
   "cell_type": "code",
   "execution_count": 306,
   "metadata": {},
   "outputs": [],
   "source": [
    "from nltk.stem import PorterStemmer\n",
    "\n",
    "# Mor aggressive algorithm. You can add your own custom rules!\n",
    "from nltk.stem import LancasterStemmer\n",
    "\n",
    "from nltk.tokenize import word_tokenize\n",
    "import nltk\n",
    "from nltk.stem.wordnet import WordNetLemmatizer\n",
    "\n",
    "ps = PorterStemmer()\n",
    "ls = LancasterStemmer()\n",
    "\n",
    "lemmatizer = WordNetLemmatizer()"
   ]
  },
  {
   "cell_type": "markdown",
   "metadata": {},
   "source": [
    "## Lemmatization"
   ]
  },
  {
   "cell_type": "code",
   "execution_count": 307,
   "metadata": {},
   "outputs": [
    {
     "data": {
      "text/plain": [
       "0    [hidden, financial, risk, that, regulator, mis...\n",
       "1    [environmental, social, and, governance, issue...\n",
       "2    [cybersecurity, unwanted, or, unexpected, cybe...\n",
       "3    [credit, possibility, of, a, loss, resulting, ...\n",
       "4    [regulatory, compliance, organization, s, adhe...\n",
       "Name: stemmed_or_lemmatized_text, dtype: object"
      ]
     },
     "execution_count": 307,
     "metadata": {},
     "output_type": "execute_result"
    }
   ],
   "source": [
    "# Lemmatization | produce an actual language word | lemmatize produces more keywords in this case\n",
    "# the for allows us to loop each and every word in each cell\n",
    "df_idf['stemmed_or_lemmatized_text'] = df_idf['raw text'].apply(lambda x: [lemmatizer.lemmatize(y) for y in x])\n",
    "df_idf['stemmed_or_lemmatized_text'].head()"
   ]
  },
  {
   "cell_type": "markdown",
   "metadata": {},
   "source": [
    "## Stemming"
   ]
  },
  {
   "cell_type": "code",
   "execution_count": 308,
   "metadata": {},
   "outputs": [],
   "source": [
    "# Stemming | might not produce an actual language word\n",
    "# df_idf['stemmed_or_lemmatized_text'] = df_idf['raw text'].apply(lambda x: [ps.stem(y) for y in x])\n",
    "# df_idf['stemmed_or_lemmatized_text'].head()"
   ]
  },
  {
   "cell_type": "markdown",
   "metadata": {},
   "source": [
    "## Convert list back to string and get rid of []"
   ]
  },
  {
   "cell_type": "code",
   "execution_count": 309,
   "metadata": {},
   "outputs": [
    {
     "data": {
      "text/plain": [
       "0    hidden financial risk that regulator miss beha...\n",
       "1    environmental social and governance issue brin...\n",
       "2    cybersecurity unwanted or unexpected cyber sec...\n",
       "3    credit possibility of a loss resulting from a ...\n",
       "4    regulatory compliance organization s adherence...\n",
       "Name: text to be mined, dtype: object"
      ]
     },
     "execution_count": 309,
     "metadata": {},
     "output_type": "execute_result"
    }
   ],
   "source": [
    "df_idf['stemmed_or_lemmatized_text'] = df_idf['stemmed_or_lemmatized_text'].apply(lambda x: ' '.join(map(str, x)).strip('[]'))\n",
    "df_idf['text to be mined'] = df_idf['stemmed_or_lemmatized_text']\n",
    "df_idf['text to be mined'].head()"
   ]
  },
  {
   "cell_type": "markdown",
   "metadata": {},
   "source": [
    "# example | tokenization"
   ]
  },
  {
   "cell_type": "code",
   "execution_count": 310,
   "metadata": {},
   "outputs": [
    {
     "name": "stdout",
     "output_type": "stream",
     "text": [
      "Chaos |\t chao |\t chao |\t Chaos\n",
      "Scientist |\t scientist |\t sci |\t Scientist\n",
      "Finds |\t find |\t find |\t Finds\n",
      "Hidden |\t hidden |\t hid |\t Hidden\n",
      "Financial |\t financi |\t fin |\t Financial\n",
      "Risks |\t risk |\t risk |\t Risks\n",
      "That |\t that |\t that |\t That\n",
      "Regulators |\t regul |\t reg |\t Regulators\n",
      "Miss |\t miss |\t miss |\t Miss\n",
      ". |\t . |\t . |\t .\n",
      "Oxford |\t oxford |\t oxford |\t Oxford\n",
      "Professor |\t professor |\t profess |\t Professor\n",
      "Doyne |\t doyn |\t doyn |\t Doyne\n",
      "Farmer |\t farmer |\t farm |\t Farmer\n",
      "is |\t is |\t is |\t is\n",
      "working |\t work |\t work |\t working\n",
      "with |\t with |\t with |\t with\n",
      "central |\t central |\t cent |\t central\n",
      "banks |\t bank |\t bank |\t bank\n",
      "to |\t to |\t to |\t to\n",
      "improve |\t improv |\t improv |\t improve\n",
      "stress |\t stress |\t stress |\t stress\n",
      "testing |\t test |\t test |\t testing\n",
      ". |\t . |\t . |\t .\n"
     ]
    }
   ],
   "source": [
    "sentence = \"Chaos Scientist Finds Hidden Financial Risks That Regulators Miss. Oxford Professor Doyne Farmer is working with central banks to improve stress testing.\"\n",
    "\n",
    "# Tokenization | creating a list of words\n",
    "words_tokenized = word_tokenize(sentence)\n",
    "\n",
    "for w in words_tokenized:\n",
    "    print(w, \"|\\t\", ps.stem(w), \"|\\t\", ls.stem(w), \"|\\t\", lemmatizer.lemmatize(w))"
   ]
  },
  {
   "cell_type": "markdown",
   "metadata": {},
   "source": [
    "# Creating the IDF"
   ]
  },
  {
   "cell_type": "markdown",
   "metadata": {},
   "source": [
    "## STOPWORDS | define and enrich a list of stopwords"
   ]
  },
  {
   "cell_type": "code",
   "execution_count": 311,
   "metadata": {},
   "outputs": [],
   "source": [
    "from nltk.corpus import stopwords"
   ]
  },
  {
   "cell_type": "code",
   "execution_count": 312,
   "metadata": {},
   "outputs": [],
   "source": [
    "# Loading a set of stopwords\n",
    "# stopwords = get_stop_words('resources/stopwords.txt')\n",
    "\n",
    "# def get_stop_words(stop_file_path):\n",
    "#    ''' Load stop words '''\n",
    "#    with open(stop_file_path, 'r', encoding='utf-8') as f:\n",
    "#        stopwords = f.readlines()\n",
    "#        stop_set = set(m.strip() for m in stopwords)\n",
    "#        return frozenset(stop_set)"
   ]
  },
  {
   "cell_type": "code",
   "execution_count": 313,
   "metadata": {},
   "outputs": [],
   "source": [
    "# Creating a list of stopwords\n",
    "stop_words = set(stopwords.words('English'))\n",
    "stop_words\n",
    "\n",
    "# Adding custom stopwords to a list of stopwords\n",
    "new_words = ['t', 'nan', 'th', 'a']\n",
    "\n",
    "stop_words_customized = stop_words.union(new_words)"
   ]
  },
  {
   "cell_type": "markdown",
   "metadata": {},
   "source": [
    "## CountVectorizer to create a vocabulary and generate word counts\n",
    "\n",
    "The next step is to start the counting process. We can use the CountVectorizer to create a vocabulary from all the text in our df_idf['text to be mined'] and generate counts for each row in df['text to be mined']. The result of the last two lines is a sparse matrix representation of the counts, meaning each column represents a word in the vocabulary and each row represents the document in our dataset where the values are the word counts. Note that with this representation, counts of some words could be 0 if the word did not appear in the corresponding document."
   ]
  },
  {
   "cell_type": "code",
   "execution_count": 314,
   "metadata": {},
   "outputs": [
    {
     "data": {
      "text/plain": [
       "['hidden financial risk that regulator miss behavioral economist have shown that people aren t perfect calculator and often make rule of thumb judgment such a concluding that rising market will keep going up despite other evidence to the contrary',\n",
       " 'environmental social and governance issue brings to mind environmental issue like climate change and resource scarcity',\n",
       " 'cybersecurity unwanted or unexpected cyber security event',\n",
       " 'credit possibility of a loss resulting from a borrower s failure to repay a loan or meet contractual obligation',\n",
       " 'regulatory compliance organization s adherence to law regulation guideline and specification relevant to it business process',\n",
       " 'strategic arise from the fundamental decision that director take concerning an organisation s objective',\n",
       " 'operational resilience entity s ability to withstand and recover from shock',\n",
       " 'conduct and culture inappropriate unethical or unlawful behaviour on the part of an organisation s management or employee',\n",
       " 'reputation poor coordination of the decision made by different business unit and function',\n",
       " 'perceived reputational risk oil drillers and gun manufacturer']"
      ]
     },
     "execution_count": 314,
     "metadata": {},
     "output_type": "execute_result"
    }
   ],
   "source": [
    "from sklearn.feature_extraction.text import CountVectorizer\n",
    "\n",
    "# Get the txt column\n",
    "docs = df_idf['text to be mined'].tolist()\n",
    "docs"
   ]
  },
  {
   "cell_type": "markdown",
   "metadata": {},
   "source": [
    "## Create a vocabulary of words | ALL COMBINATIONS"
   ]
  },
  {
   "cell_type": "code",
   "execution_count": 315,
   "metadata": {},
   "outputs": [
    {
     "data": {
      "text/plain": [
       "(10, 328)"
      ]
     },
     "execution_count": 315,
     "metadata": {},
     "output_type": "execute_result"
    }
   ],
   "source": [
    "# Ignore words that appear in 90% (was 85%) of documents\n",
    "# range (2, 5), i.e. bigrams, trigrams, fourgrams and fivegrams\n",
    "# Eliminate stop words\n",
    "\n",
    "cv = CountVectorizer(max_df=0.85, ngram_range=(2, 5), stop_words = stop_words_customized)\n",
    "\n",
    "word_count_vector = cv.fit_transform(docs)\n",
    "\n",
    "# Shape of the resulting vector\n",
    "word_count_vector.shape"
   ]
  },
  {
   "cell_type": "code",
   "execution_count": 316,
   "metadata": {},
   "outputs": [],
   "source": [
    "# Extract feature names\n",
    "feature_names = cv.get_feature_names()"
   ]
  },
  {
   "cell_type": "markdown",
   "metadata": {},
   "source": [
    "### Exporting the vocabulary of words | ALL COMBINATIONS"
   ]
  },
  {
   "cell_type": "code",
   "execution_count": 317,
   "metadata": {},
   "outputs": [],
   "source": [
    "df_vocabulary_of_words = pd.DataFrame(list(feature_names), columns=['Keywords (ALL COMBINATIONS)'])\n",
    "df_vocabulary_of_words.to_excel(r'outputs/vocabulary_of_words_all_combinations.xlsx')"
   ]
  },
  {
   "cell_type": "markdown",
   "metadata": {},
   "source": [
    "## Create a vocabulary of words | LIMITED COMBINATIONS\n",
    "\n",
    "In some of the text mining applications, such as clustering and text classification we limit the size of the vocabulary. It's really easy to do this by setting max_features=vocab_size when instantiating CountVectorizer\n",
    "\n",
    "Let's limit it to 300."
   ]
  },
  {
   "cell_type": "code",
   "execution_count": 318,
   "metadata": {},
   "outputs": [],
   "source": [
    "# cv_limited = CountVectorizer(max_df=0.85, ngram_range=(2,5), stop_words=stop_words_customized, max_features=300)\n",
    "\n",
    "# word_count_vector_limited = cv_limited.fit_transform(docs)\n",
    "\n",
    "# Shape of the resulting vector\n",
    "#word_count_vector_limited.shape"
   ]
  },
  {
   "cell_type": "code",
   "execution_count": 319,
   "metadata": {},
   "outputs": [],
   "source": [
    "# Extract feature names\n",
    "# feature_names_limited = cv_limited.get_feature_names()"
   ]
  },
  {
   "cell_type": "markdown",
   "metadata": {},
   "source": [
    "### Exporting the vocabulary of words | LIMITED COMBINATIONS"
   ]
  },
  {
   "cell_type": "code",
   "execution_count": 320,
   "metadata": {},
   "outputs": [],
   "source": [
    "# df_vocabulary_of_words_limited = pd.DataFrame(list(feature_names_limited), columns=['Keywords (LIMITED COMBINATIONS)'])\n",
    "# df_vocabulary_of_words_limited.to_excel(r'outputs/vocabulary_of_words_limited_combinations.xlsx')"
   ]
  },
  {
   "cell_type": "markdown",
   "metadata": {},
   "source": [
    "# TfidfTransformer to Compute Inverse Document Frequency (IDF)\n",
    "\n",
    "In the code below, we are essentially taking the sparse matrix from CountVectorizer to generate the IDF when you invoke fit.\n",
    "\n",
    "An extremely important point to note here is that the <b>IDF should be based on a large corpora</b> and should <b>be representative of texts you would be using to extract keywords</b>.\n",
    "\n",
    "I've seen several articles on the web that compute the IDF using an handful of documents.\n",
    "\n",
    "To understand why IDF should be based on a fairly large collection, please read this [page from Standford's IR book] (https://nlp.stanford.edu/IR-book/html/htmledition/inverse-document-frequency-1.html)."
   ]
  },
  {
   "cell_type": "code",
   "execution_count": 321,
   "metadata": {},
   "outputs": [],
   "source": [
    "from sklearn.feature_extraction.text import TfidfTransformer"
   ]
  },
  {
   "cell_type": "markdown",
   "metadata": {},
   "source": [
    "## TF-IDF | ALL COMBINATIONS"
   ]
  },
  {
   "cell_type": "code",
   "execution_count": 322,
   "metadata": {},
   "outputs": [
    {
     "data": {
      "text/plain": [
       "TfidfTransformer(norm='l2', smooth_idf=True, sublinear_tf=False, use_idf=True)"
      ]
     },
     "execution_count": 322,
     "metadata": {},
     "output_type": "execute_result"
    }
   ],
   "source": [
    "tfidf_transformer = TfidfTransformer(smooth_idf=True, use_idf=True)\n",
    "tfidf_transformer.fit(word_count_vector)"
   ]
  },
  {
   "cell_type": "code",
   "execution_count": 323,
   "metadata": {},
   "outputs": [
    {
     "data": {
      "text/plain": [
       "328"
      ]
     },
     "execution_count": 323,
     "metadata": {},
     "output_type": "execute_result"
    }
   ],
   "source": [
    "# Let's look at some of the IDF values:\n",
    "tfidf_transformer.idf_\n",
    "len(tfidf_transformer.idf_)"
   ]
  },
  {
   "cell_type": "markdown",
   "metadata": {},
   "source": [
    "## TF-IDF | LIMITED COMBINATIONS"
   ]
  },
  {
   "cell_type": "code",
   "execution_count": 324,
   "metadata": {},
   "outputs": [],
   "source": [
    "# tfidf_transformer_limited = TfidfTransformer(smooth_idf=True, use_idf=True)\n",
    "# tfidf_transformer_limited.fit(word_count_vector_limited)"
   ]
  },
  {
   "cell_type": "code",
   "execution_count": 325,
   "metadata": {},
   "outputs": [],
   "source": [
    "# Let's look at some of the IDF values:\n",
    "# tfidf_transformer_limited.idf_\n",
    "# len(tfidf_transformer_limited.idf_)"
   ]
  },
  {
   "cell_type": "markdown",
   "metadata": {},
   "source": [
    "# Computing TF-IDF and extracting keywords for each Incidents\n",
    "\n",
    "Once we have our IDF computed, we are now ready to compute TF-IDF and extract the top keywords. In this example, we will extract top keywords for all our Incidents stored in our Excel spreadsheet (or csv, json, etc.)\n",
    "\n",
    "We will start by reading the file, extracting the necessary fields in a dataframe (name + description) and get the texts into a list."
   ]
  },
  {
   "cell_type": "code",
   "execution_count": 326,
   "metadata": {},
   "outputs": [],
   "source": [
    "df_tfidf = pd.read_excel(r''+filename+'', index_col=None, na_values=['NA'])\n",
    "# df_tfidf = pd.read_json(\"data/incidents.json, lines=True\")\n",
    "\n",
    "df_tfidf = df_tfidf[column_names]"
   ]
  },
  {
   "cell_type": "code",
   "execution_count": 327,
   "metadata": {},
   "outputs": [
    {
     "data": {
      "text/html": [
       "<div>\n",
       "<style scoped>\n",
       "    .dataframe tbody tr th:only-of-type {\n",
       "        vertical-align: middle;\n",
       "    }\n",
       "\n",
       "    .dataframe tbody tr th {\n",
       "        vertical-align: top;\n",
       "    }\n",
       "\n",
       "    .dataframe thead th {\n",
       "        text-align: right;\n",
       "    }\n",
       "</style>\n",
       "<table border=\"1\" class=\"dataframe\">\n",
       "  <thead>\n",
       "    <tr style=\"text-align: right;\">\n",
       "      <th></th>\n",
       "      <th>incident_id</th>\n",
       "      <th>status</th>\n",
       "      <th>name</th>\n",
       "      <th>period</th>\n",
       "      <th>description</th>\n",
       "    </tr>\n",
       "  </thead>\n",
       "  <tbody>\n",
       "    <tr>\n",
       "      <td>0</td>\n",
       "      <td>1</td>\n",
       "      <td>Open</td>\n",
       "      <td>Hidden Financial Risks That Regulators Miss</td>\n",
       "      <td>2021-02</td>\n",
       "      <td>Behavioral economists have shown that people a...</td>\n",
       "    </tr>\n",
       "    <tr>\n",
       "      <td>1</td>\n",
       "      <td>2</td>\n",
       "      <td>Closed</td>\n",
       "      <td>Environmental, social and governance issues</td>\n",
       "      <td>2021-01</td>\n",
       "      <td>brings to mind environmental issues like clima...</td>\n",
       "    </tr>\n",
       "    <tr>\n",
       "      <td>2</td>\n",
       "      <td>3</td>\n",
       "      <td>Draft</td>\n",
       "      <td>Cybersecurity</td>\n",
       "      <td>2021-01</td>\n",
       "      <td>unwanted or unexpected cyber security event</td>\n",
       "    </tr>\n",
       "    <tr>\n",
       "      <td>3</td>\n",
       "      <td>4</td>\n",
       "      <td>Cancelled</td>\n",
       "      <td>Credit</td>\n",
       "      <td>2021-03</td>\n",
       "      <td>possibility of a loss resulting from a borrowe...</td>\n",
       "    </tr>\n",
       "    <tr>\n",
       "      <td>4</td>\n",
       "      <td>5</td>\n",
       "      <td>Draft</td>\n",
       "      <td>Regulatory/compliance</td>\n",
       "      <td>2021-03</td>\n",
       "      <td>organization's adherence to laws, regulations,...</td>\n",
       "    </tr>\n",
       "    <tr>\n",
       "      <td>5</td>\n",
       "      <td>6</td>\n",
       "      <td>Open</td>\n",
       "      <td>Strategic</td>\n",
       "      <td>2021-03</td>\n",
       "      <td>arise from the fundamental decisions that dire...</td>\n",
       "    </tr>\n",
       "    <tr>\n",
       "      <td>6</td>\n",
       "      <td>7</td>\n",
       "      <td>Open</td>\n",
       "      <td>Operational resilience</td>\n",
       "      <td>2021-03</td>\n",
       "      <td>entity's ability to withstand and recover from...</td>\n",
       "    </tr>\n",
       "    <tr>\n",
       "      <td>7</td>\n",
       "      <td>8</td>\n",
       "      <td>Open</td>\n",
       "      <td>Conduct and culture</td>\n",
       "      <td>2020-12</td>\n",
       "      <td>inappropriate, unethical or unlawful behaviour...</td>\n",
       "    </tr>\n",
       "    <tr>\n",
       "      <td>8</td>\n",
       "      <td>9</td>\n",
       "      <td>Closed</td>\n",
       "      <td>Reputation</td>\n",
       "      <td>2020-10</td>\n",
       "      <td>poor coordination of the decisions made by dif...</td>\n",
       "    </tr>\n",
       "    <tr>\n",
       "      <td>9</td>\n",
       "      <td>10</td>\n",
       "      <td>Closed</td>\n",
       "      <td>perceived reputational risk</td>\n",
       "      <td>2020-09</td>\n",
       "      <td>oil drillers and gun manufacturers</td>\n",
       "    </tr>\n",
       "  </tbody>\n",
       "</table>\n",
       "</div>"
      ],
      "text/plain": [
       "   incident_id     status                                         name  \\\n",
       "0            1       Open  Hidden Financial Risks That Regulators Miss   \n",
       "1            2     Closed  Environmental, social and governance issues   \n",
       "2            3      Draft                                Cybersecurity   \n",
       "3            4  Cancelled                                       Credit   \n",
       "4            5      Draft                        Regulatory/compliance   \n",
       "5            6       Open                                    Strategic   \n",
       "6            7       Open                       Operational resilience   \n",
       "7            8       Open                          Conduct and culture   \n",
       "8            9     Closed                                   Reputation   \n",
       "9           10     Closed                  perceived reputational risk   \n",
       "\n",
       "    period                                        description  \n",
       "0  2021-02  Behavioral economists have shown that people a...  \n",
       "1  2021-01  brings to mind environmental issues like clima...  \n",
       "2  2021-01        unwanted or unexpected cyber security event  \n",
       "3  2021-03  possibility of a loss resulting from a borrowe...  \n",
       "4  2021-03  organization's adherence to laws, regulations,...  \n",
       "5  2021-03  arise from the fundamental decisions that dire...  \n",
       "6  2021-03  entity's ability to withstand and recover from...  \n",
       "7  2020-12  inappropriate, unethical or unlawful behaviour...  \n",
       "8  2020-10  poor coordination of the decisions made by dif...  \n",
       "9  2020-09                 oil drillers and gun manufacturers  "
      ]
     },
     "execution_count": 327,
     "metadata": {},
     "output_type": "execute_result"
    }
   ],
   "source": [
    "df_tfidf"
   ]
  },
  {
   "cell_type": "code",
   "execution_count": 328,
   "metadata": {},
   "outputs": [
    {
     "data": {
      "text/plain": [
       "incident_id    10\n",
       "status         10\n",
       "name           10\n",
       "period         10\n",
       "description    10\n",
       "dtype: int64"
      ]
     },
     "execution_count": 328,
     "metadata": {},
     "output_type": "execute_result"
    }
   ],
   "source": [
    "df_tfidf.count()"
   ]
  },
  {
   "cell_type": "code",
   "execution_count": 329,
   "metadata": {},
   "outputs": [
    {
     "name": "stdout",
     "output_type": "stream",
     "text": [
      "Schema:\n",
      "\n",
      " incident_id     int64\n",
      "status         object\n",
      "name           object\n",
      "period         object\n",
      "description    object\n",
      "dtype: object\n",
      "Number of questions,columns= (10, 5)\n"
     ]
    }
   ],
   "source": [
    "# print schema\n",
    "print(\"Schema:\\n\\n\", df_tfidf.dtypes)\n",
    "print(\"Number of questions,columns=\", df_tfidf.shape)"
   ]
  },
  {
   "cell_type": "markdown",
   "metadata": {},
   "source": [
    "# Concatenating | NAME + DESCRIPTION"
   ]
  },
  {
   "cell_type": "code",
   "execution_count": 330,
   "metadata": {},
   "outputs": [
    {
     "data": {
      "text/plain": [
       "0    Hidden Financial Risks That Regulators Miss Be...\n",
       "1    Environmental, social and governance issues br...\n",
       "2    Cybersecurity unwanted or unexpected cyber sec...\n",
       "3    Credit possibility of a loss resulting from a ...\n",
       "4    Regulatory/compliance organization's adherence...\n",
       "5    Strategic arise from the fundamental decisions...\n",
       "6    Operational resilience entity's ability to wit...\n",
       "7    Conduct and culture inappropriate, unethical o...\n",
       "8    Reputation poor coordination of the decisions ...\n",
       "9    perceived reputational risk oil drillers and g...\n",
       "Name: text to be mined, dtype: object"
      ]
     },
     "execution_count": 330,
     "metadata": {},
     "output_type": "execute_result"
    }
   ],
   "source": [
    "df_tfidf['text to be mined'] = df_tfidf['name'].fillna(\"\") + ' ' +df_tfidf['description'].fillna(\"\")\n",
    "df_tfidf['text to be mined']"
   ]
  },
  {
   "cell_type": "code",
   "execution_count": 331,
   "metadata": {},
   "outputs": [],
   "source": [
    "# Cleansing | getting rid of rows having null values for description\n",
    "# df_tfidf = df_tfidf[~df_tfidf['text to be mined'].isnull()]\n",
    "# df_tfidf"
   ]
  },
  {
   "cell_type": "markdown",
   "metadata": {},
   "source": [
    "## Calling pre-processing method"
   ]
  },
  {
   "cell_type": "code",
   "execution_count": 332,
   "metadata": {},
   "outputs": [],
   "source": [
    "df_tfidf['text to be mined'] = df_tfidf['text to be mined'].astype(str).apply(lambda x: pre_process(x))"
   ]
  },
  {
   "cell_type": "markdown",
   "metadata": {},
   "source": [
    "## Retrieving the length and number of words"
   ]
  },
  {
   "cell_type": "code",
   "execution_count": 333,
   "metadata": {},
   "outputs": [],
   "source": [
    "# Two new columns for lengths of the description and word count\n",
    "df_tfidf['length'] = df_tfidf['text to be mined'].astype(str).apply(len)\n",
    "df_tfidf['word_count'] = df_tfidf['text to be mined'].apply(lambda x: len(str(x).split()))"
   ]
  },
  {
   "cell_type": "code",
   "execution_count": 334,
   "metadata": {},
   "outputs": [
    {
     "data": {
      "text/html": [
       "<div>\n",
       "<style scoped>\n",
       "    .dataframe tbody tr th:only-of-type {\n",
       "        vertical-align: middle;\n",
       "    }\n",
       "\n",
       "    .dataframe tbody tr th {\n",
       "        vertical-align: top;\n",
       "    }\n",
       "\n",
       "    .dataframe thead th {\n",
       "        text-align: right;\n",
       "    }\n",
       "</style>\n",
       "<table border=\"1\" class=\"dataframe\">\n",
       "  <thead>\n",
       "    <tr style=\"text-align: right;\">\n",
       "      <th></th>\n",
       "      <th>incident_id</th>\n",
       "      <th>status</th>\n",
       "      <th>name</th>\n",
       "      <th>period</th>\n",
       "      <th>description</th>\n",
       "      <th>text to be mined</th>\n",
       "      <th>length</th>\n",
       "      <th>word_count</th>\n",
       "    </tr>\n",
       "  </thead>\n",
       "  <tbody>\n",
       "    <tr>\n",
       "      <td>0</td>\n",
       "      <td>1</td>\n",
       "      <td>Open</td>\n",
       "      <td>Hidden Financial Risks That Regulators Miss</td>\n",
       "      <td>2021-02</td>\n",
       "      <td>Behavioral economists have shown that people a...</td>\n",
       "      <td>hidden financial risks that regulators miss be...</td>\n",
       "      <td>251</td>\n",
       "      <td>39</td>\n",
       "    </tr>\n",
       "    <tr>\n",
       "      <td>1</td>\n",
       "      <td>2</td>\n",
       "      <td>Closed</td>\n",
       "      <td>Environmental, social and governance issues</td>\n",
       "      <td>2021-01</td>\n",
       "      <td>brings to mind environmental issues like clima...</td>\n",
       "      <td>environmental social and governance issues bri...</td>\n",
       "      <td>120</td>\n",
       "      <td>16</td>\n",
       "    </tr>\n",
       "    <tr>\n",
       "      <td>2</td>\n",
       "      <td>3</td>\n",
       "      <td>Draft</td>\n",
       "      <td>Cybersecurity</td>\n",
       "      <td>2021-01</td>\n",
       "      <td>unwanted or unexpected cyber security event</td>\n",
       "      <td>cybersecurity unwanted or unexpected cyber sec...</td>\n",
       "      <td>57</td>\n",
       "      <td>7</td>\n",
       "    </tr>\n",
       "    <tr>\n",
       "      <td>3</td>\n",
       "      <td>4</td>\n",
       "      <td>Cancelled</td>\n",
       "      <td>Credit</td>\n",
       "      <td>2021-03</td>\n",
       "      <td>possibility of a loss resulting from a borrowe...</td>\n",
       "      <td>credit possibility of a loss resulting from a ...</td>\n",
       "      <td>112</td>\n",
       "      <td>19</td>\n",
       "    </tr>\n",
       "    <tr>\n",
       "      <td>4</td>\n",
       "      <td>5</td>\n",
       "      <td>Draft</td>\n",
       "      <td>Regulatory/compliance</td>\n",
       "      <td>2021-03</td>\n",
       "      <td>organization's adherence to laws, regulations,...</td>\n",
       "      <td>regulatory compliance organization s adherence...</td>\n",
       "      <td>131</td>\n",
       "      <td>16</td>\n",
       "    </tr>\n",
       "    <tr>\n",
       "      <td>5</td>\n",
       "      <td>6</td>\n",
       "      <td>Open</td>\n",
       "      <td>Strategic</td>\n",
       "      <td>2021-03</td>\n",
       "      <td>arise from the fundamental decisions that dire...</td>\n",
       "      <td>strategic arise from the fundamental decisions...</td>\n",
       "      <td>106</td>\n",
       "      <td>14</td>\n",
       "    </tr>\n",
       "    <tr>\n",
       "      <td>6</td>\n",
       "      <td>7</td>\n",
       "      <td>Open</td>\n",
       "      <td>Operational resilience</td>\n",
       "      <td>2021-03</td>\n",
       "      <td>entity's ability to withstand and recover from...</td>\n",
       "      <td>operational resilience entity s ability to wit...</td>\n",
       "      <td>76</td>\n",
       "      <td>11</td>\n",
       "    </tr>\n",
       "    <tr>\n",
       "      <td>7</td>\n",
       "      <td>8</td>\n",
       "      <td>Open</td>\n",
       "      <td>Conduct and culture</td>\n",
       "      <td>2020-12</td>\n",
       "      <td>inappropriate, unethical or unlawful behaviour...</td>\n",
       "      <td>conduct and culture inappropriate unethical or...</td>\n",
       "      <td>122</td>\n",
       "      <td>18</td>\n",
       "    </tr>\n",
       "    <tr>\n",
       "      <td>8</td>\n",
       "      <td>9</td>\n",
       "      <td>Closed</td>\n",
       "      <td>Reputation</td>\n",
       "      <td>2020-10</td>\n",
       "      <td>poor coordination of the decisions made by dif...</td>\n",
       "      <td>reputation poor coordination of the decisions ...</td>\n",
       "      <td>92</td>\n",
       "      <td>13</td>\n",
       "    </tr>\n",
       "    <tr>\n",
       "      <td>9</td>\n",
       "      <td>10</td>\n",
       "      <td>Closed</td>\n",
       "      <td>perceived reputational risk</td>\n",
       "      <td>2020-09</td>\n",
       "      <td>oil drillers and gun manufacturers</td>\n",
       "      <td>perceived reputational risk oil drillers and g...</td>\n",
       "      <td>62</td>\n",
       "      <td>8</td>\n",
       "    </tr>\n",
       "  </tbody>\n",
       "</table>\n",
       "</div>"
      ],
      "text/plain": [
       "   incident_id     status                                         name  \\\n",
       "0            1       Open  Hidden Financial Risks That Regulators Miss   \n",
       "1            2     Closed  Environmental, social and governance issues   \n",
       "2            3      Draft                                Cybersecurity   \n",
       "3            4  Cancelled                                       Credit   \n",
       "4            5      Draft                        Regulatory/compliance   \n",
       "5            6       Open                                    Strategic   \n",
       "6            7       Open                       Operational resilience   \n",
       "7            8       Open                          Conduct and culture   \n",
       "8            9     Closed                                   Reputation   \n",
       "9           10     Closed                  perceived reputational risk   \n",
       "\n",
       "    period                                        description  \\\n",
       "0  2021-02  Behavioral economists have shown that people a...   \n",
       "1  2021-01  brings to mind environmental issues like clima...   \n",
       "2  2021-01        unwanted or unexpected cyber security event   \n",
       "3  2021-03  possibility of a loss resulting from a borrowe...   \n",
       "4  2021-03  organization's adherence to laws, regulations,...   \n",
       "5  2021-03  arise from the fundamental decisions that dire...   \n",
       "6  2021-03  entity's ability to withstand and recover from...   \n",
       "7  2020-12  inappropriate, unethical or unlawful behaviour...   \n",
       "8  2020-10  poor coordination of the decisions made by dif...   \n",
       "9  2020-09                 oil drillers and gun manufacturers   \n",
       "\n",
       "                                    text to be mined  length  word_count  \n",
       "0  hidden financial risks that regulators miss be...     251          39  \n",
       "1  environmental social and governance issues bri...     120          16  \n",
       "2  cybersecurity unwanted or unexpected cyber sec...      57           7  \n",
       "3  credit possibility of a loss resulting from a ...     112          19  \n",
       "4  regulatory compliance organization s adherence...     131          16  \n",
       "5  strategic arise from the fundamental decisions...     106          14  \n",
       "6  operational resilience entity s ability to wit...      76          11  \n",
       "7  conduct and culture inappropriate unethical or...     122          18  \n",
       "8  reputation poor coordination of the decisions ...      92          13  \n",
       "9  perceived reputational risk oil drillers and g...      62           8  "
      ]
     },
     "execution_count": 334,
     "metadata": {},
     "output_type": "execute_result"
    }
   ],
   "source": [
    "df_tfidf"
   ]
  },
  {
   "cell_type": "markdown",
   "metadata": {},
   "source": [
    "## Creating a list of words | Convert to string (using .str or astype(str)) + split()"
   ]
  },
  {
   "cell_type": "code",
   "execution_count": 335,
   "metadata": {},
   "outputs": [
    {
     "data": {
      "text/plain": [
       "0    [hidden, financial, risks, that, regulators, m...\n",
       "1    [environmental, social, and, governance, issue...\n",
       "2    [cybersecurity, unwanted, or, unexpected, cybe...\n",
       "3    [credit, possibility, of, a, loss, resulting, ...\n",
       "4    [regulatory, compliance, organization, s, adhe...\n",
       "5    [strategic, arise, from, the, fundamental, dec...\n",
       "6    [operational, resilience, entity, s, ability, ...\n",
       "7    [conduct, and, culture, inappropriate, unethic...\n",
       "8    [reputation, poor, coordination, of, the, deci...\n",
       "9    [perceived, reputational, risk, oil, drillers,...\n",
       "Name: raw_text, dtype: object"
      ]
     },
     "execution_count": 335,
     "metadata": {},
     "output_type": "execute_result"
    }
   ],
   "source": [
    "df_tfidf['raw_text'] = df_tfidf['text to be mined'].str.split()\n",
    "df_tfidf['raw_text']"
   ]
  },
  {
   "cell_type": "markdown",
   "metadata": {},
   "source": [
    "## Capitalising entity names"
   ]
  },
  {
   "cell_type": "code",
   "execution_count": 336,
   "metadata": {},
   "outputs": [],
   "source": [
    "df_tfidf['raw_text'] = df_tfidf['raw_text'].apply(lambda x: [capitalising_entity_names(y) for y in x])"
   ]
  },
  {
   "cell_type": "markdown",
   "metadata": {},
   "source": [
    "## Stemming or Lemmatization"
   ]
  },
  {
   "cell_type": "code",
   "execution_count": 337,
   "metadata": {},
   "outputs": [],
   "source": [
    "df_tfidf['stemmed_or_lemmatized_text'] = df_tfidf['raw_text'].apply(lambda x: [lemmatizer.lemmatize(y) for y in x])"
   ]
  },
  {
   "cell_type": "markdown",
   "metadata": {},
   "source": [
    "## Convert list back to string and get rid of []"
   ]
  },
  {
   "cell_type": "code",
   "execution_count": 338,
   "metadata": {},
   "outputs": [
    {
     "data": {
      "text/plain": [
       "0    hidden financial risk that regulator miss beha...\n",
       "1    environmental social and governance issue brin...\n",
       "2    cybersecurity unwanted or unexpected cyber sec...\n",
       "3    credit possibility of a loss resulting from a ...\n",
       "4    regulatory compliance organization s adherence...\n",
       "Name: text to be mined, dtype: object"
      ]
     },
     "execution_count": 338,
     "metadata": {},
     "output_type": "execute_result"
    }
   ],
   "source": [
    "df_tfidf['stemmed_or_lemmatized_text'] = df_tfidf['stemmed_or_lemmatized_text'].apply(lambda x: ' '.join(map(str, x)).strip('[]'))\n",
    "df_tfidf['text to be mined'] = df_tfidf['stemmed_or_lemmatized_text']\n",
    "df_tfidf['text to be mined'].head()"
   ]
  },
  {
   "cell_type": "markdown",
   "metadata": {},
   "source": [
    "# Get test docs into a list"
   ]
  },
  {
   "cell_type": "code",
   "execution_count": 339,
   "metadata": {},
   "outputs": [],
   "source": [
    "docs_text_to_be_mined = df_tfidf['text to be mined']"
   ]
  },
  {
   "cell_type": "markdown",
   "metadata": {},
   "source": [
    "# Extracting ngrams | FUNCTIONS"
   ]
  },
  {
   "cell_type": "code",
   "execution_count": 340,
   "metadata": {},
   "outputs": [],
   "source": [
    "def sort_coo(coo_matrix):\n",
    "    tuples = zip(coo_matrix.col, coo_matrix.data)\n",
    "    return sorted(tuples, key=lambda x: (x[1], x[0]), reverse=True)"
   ]
  },
  {
   "cell_type": "code",
   "execution_count": 341,
   "metadata": {},
   "outputs": [],
   "source": [
    "# With weigthing\n",
    "def extract_topn_from_vector(feature_names, sorted_items, topn=10):\n",
    "    \"\"\" get the feature names and tf-idf score of top n items\"\"\"\n",
    "    \n",
    "    # Use only topn items from vector\n",
    "    sorted_items = sorted_items[:topn]\n",
    "    \n",
    "    score_vals = []\n",
    "    feature_vals = []\n",
    "    \n",
    "    for idx, score in sorted_items:\n",
    "        fname = feature_names[idx]\n",
    "        \n",
    "        # keep track of feature name and its corresponding score\n",
    "        score_vals.append(round(score, 3))\n",
    "        feature_vals.append(feature_names[idx])\n",
    "        \n",
    "    # create a tuples of feature,score\n",
    "    # results = zip(feature_vals, score_vals)\n",
    "    results = {}\n",
    "    for idx in range(len(feature_vals)):\n",
    "        results[feature_vals[idx]]=score_vals[idx]\n",
    "        \n",
    "    return results"
   ]
  },
  {
   "cell_type": "code",
   "execution_count": 342,
   "metadata": {},
   "outputs": [],
   "source": [
    "# Without weigthing\n",
    "def extract_topn_from_vector_keyword_only(feature_names, sorted_items, topn=10):\n",
    "    \"\"\" get the feature names and tf-idf score of top n items\"\"\"\n",
    "    \n",
    "    # Use only topn items from vector\n",
    "    sorted_items = sorted_items[:topn]\n",
    "    \n",
    "    score_vals = []\n",
    "    feature_vals = []\n",
    "    \n",
    "    for idx, score in sorted_items:\n",
    "        fname = feature_names[idx]\n",
    "        \n",
    "        # keep track of feature name and its corresponding score\n",
    "        score_vals.append(round(score, 3))\n",
    "        feature_vals.append(feature_names[idx])\n",
    "        \n",
    "    # create a tuples of feature,score\n",
    "    # results = zip(feature_vals, score_vals)\n",
    "    results = ''\n",
    "    for idx in range(len(feature_vals)):\n",
    "        results += feature_vals[idx]\n",
    "        results += ','\n",
    "        \n",
    "    return results"
   ]
  },
  {
   "cell_type": "markdown",
   "metadata": {},
   "source": [
    "# Generating keywords for a batch of documents (without weighting) | ALL COMBINATIONS\n",
    "\n",
    "The next step is to compute the tf-idf value for a given document in our test set by invoking tfidf_transformer.transform(...). This generates a vector of tf-idf scores. Next, we sort the words in the vector in descending order of tf-idf values and then iterate over to extract the top-n items with the corresponding feature names, in the example below, we are extracting keywords for the first document in our test set.\n",
    "\n",
    "The sort_coo() method essentially sorts the values in the vector while preserving the column index. once you have the column index then its really easy to look-up the corresponding word value as you would see in extract_topn_from_vector(...) where we do feature_vals.append(feature_names[idx])"
   ]
  },
  {
   "cell_type": "code",
   "execution_count": 343,
   "metadata": {},
   "outputs": [
    {
     "name": "stdout",
     "output_type": "stream",
     "text": [
      "10\n"
     ]
    }
   ],
   "source": [
    "# generate tf-idf for all documents in your list. docs_text_to_be_mined has X documents\n",
    "tf_idf_vector = tfidf_transformer.transform(cv.transform(docs_text_to_be_mined))\n",
    "\n",
    "print(tf_idf_vector.shape[0])\n",
    "\n",
    "results=[]\n",
    "for i in range(tf_idf_vector.shape[0]):\n",
    "    \n",
    "    # get vector for a single document\n",
    "    curr_vector = tf_idf_vector[i]\n",
    "    \n",
    "    # sort the tf-idf vector by descending order of scores\n",
    "    sorted_items = sort_coo(curr_vector.tocoo())\n",
    "    \n",
    "    # extract only the top n; n here is 10 - keywords only, without weighting\n",
    "    keywords=extract_topn_from_vector_keyword_only(feature_names, sorted_items, 10)\n",
    "    \n",
    "    results.append(keywords)\n",
    "    \n",
    "df_tfidf['keywords (all combinations) without weighting'] = results\n",
    "\n",
    "# drop unnecessary columns\n",
    "df_tfidf.drop(['raw_text', 'stemmed_or_lemmatized_text'], axis = 1)\n",
    "\n",
    "# df_tfidf.rename(columns={'text': 'text to be mined'})\n",
    "df_tfidf.to_excel('outputs/incidents by period with keywords (all combinations) without weighting.xlsx')"
   ]
  },
  {
   "cell_type": "code",
   "execution_count": 344,
   "metadata": {},
   "outputs": [
    {
     "data": {
      "text/html": [
       "<div>\n",
       "<style scoped>\n",
       "    .dataframe tbody tr th:only-of-type {\n",
       "        vertical-align: middle;\n",
       "    }\n",
       "\n",
       "    .dataframe tbody tr th {\n",
       "        vertical-align: top;\n",
       "    }\n",
       "\n",
       "    .dataframe thead th {\n",
       "        text-align: right;\n",
       "    }\n",
       "</style>\n",
       "<table border=\"1\" class=\"dataframe\">\n",
       "  <thead>\n",
       "    <tr style=\"text-align: right;\">\n",
       "      <th></th>\n",
       "      <th>incident_id</th>\n",
       "      <th>status</th>\n",
       "      <th>name</th>\n",
       "      <th>period</th>\n",
       "      <th>description</th>\n",
       "      <th>text to be mined</th>\n",
       "      <th>length</th>\n",
       "      <th>word_count</th>\n",
       "      <th>raw_text</th>\n",
       "      <th>stemmed_or_lemmatized_text</th>\n",
       "      <th>keywords (all combinations) without weighting</th>\n",
       "    </tr>\n",
       "  </thead>\n",
       "  <tbody>\n",
       "    <tr>\n",
       "      <td>0</td>\n",
       "      <td>1</td>\n",
       "      <td>Open</td>\n",
       "      <td>Hidden Financial Risks That Regulators Miss</td>\n",
       "      <td>2021-02</td>\n",
       "      <td>Behavioral economists have shown that people a...</td>\n",
       "      <td>hidden financial risk that regulator miss beha...</td>\n",
       "      <td>251</td>\n",
       "      <td>39</td>\n",
       "      <td>[hidden, financial, risks, that, regulators, m...</td>\n",
       "      <td>hidden financial risk that regulator miss beha...</td>\n",
       "      <td>thumb judgment concluding rising market,thumb ...</td>\n",
       "    </tr>\n",
       "    <tr>\n",
       "      <td>1</td>\n",
       "      <td>2</td>\n",
       "      <td>Closed</td>\n",
       "      <td>Environmental, social and governance issues</td>\n",
       "      <td>2021-01</td>\n",
       "      <td>brings to mind environmental issues like clima...</td>\n",
       "      <td>environmental social and governance issue brin...</td>\n",
       "      <td>120</td>\n",
       "      <td>16</td>\n",
       "      <td>[environmental, social, and, governance, issue...</td>\n",
       "      <td>environmental social and governance issue brin...</td>\n",
       "      <td>social governance issue brings mind,social gov...</td>\n",
       "    </tr>\n",
       "    <tr>\n",
       "      <td>2</td>\n",
       "      <td>3</td>\n",
       "      <td>Draft</td>\n",
       "      <td>Cybersecurity</td>\n",
       "      <td>2021-01</td>\n",
       "      <td>unwanted or unexpected cyber security event</td>\n",
       "      <td>cybersecurity unwanted or unexpected cyber sec...</td>\n",
       "      <td>57</td>\n",
       "      <td>7</td>\n",
       "      <td>[cybersecurity, unwanted, or, unexpected, cybe...</td>\n",
       "      <td>cybersecurity unwanted or unexpected cyber sec...</td>\n",
       "      <td>unwanted unexpected cyber security event,unwan...</td>\n",
       "    </tr>\n",
       "    <tr>\n",
       "      <td>3</td>\n",
       "      <td>4</td>\n",
       "      <td>Cancelled</td>\n",
       "      <td>Credit</td>\n",
       "      <td>2021-03</td>\n",
       "      <td>possibility of a loss resulting from a borrowe...</td>\n",
       "      <td>credit possibility of a loss resulting from a ...</td>\n",
       "      <td>112</td>\n",
       "      <td>19</td>\n",
       "      <td>[credit, possibility, of, a, loss, resulting, ...</td>\n",
       "      <td>credit possibility of a loss resulting from a ...</td>\n",
       "      <td>resulting borrower failure repay loan,resultin...</td>\n",
       "    </tr>\n",
       "    <tr>\n",
       "      <td>4</td>\n",
       "      <td>5</td>\n",
       "      <td>Draft</td>\n",
       "      <td>Regulatory/compliance</td>\n",
       "      <td>2021-03</td>\n",
       "      <td>organization's adherence to laws, regulations,...</td>\n",
       "      <td>regulatory compliance organization s adherence...</td>\n",
       "      <td>131</td>\n",
       "      <td>16</td>\n",
       "      <td>[regulatory, compliance, organization, s, adhe...</td>\n",
       "      <td>regulatory compliance organization s adherence...</td>\n",
       "      <td>specification relevant business process,specif...</td>\n",
       "    </tr>\n",
       "    <tr>\n",
       "      <td>5</td>\n",
       "      <td>6</td>\n",
       "      <td>Open</td>\n",
       "      <td>Strategic</td>\n",
       "      <td>2021-03</td>\n",
       "      <td>arise from the fundamental decisions that dire...</td>\n",
       "      <td>strategic arise from the fundamental decision ...</td>\n",
       "      <td>106</td>\n",
       "      <td>14</td>\n",
       "      <td>[strategic, arise, from, the, fundamental, dec...</td>\n",
       "      <td>strategic arise from the fundamental decision ...</td>\n",
       "      <td>take concerning organisation objective,take co...</td>\n",
       "    </tr>\n",
       "    <tr>\n",
       "      <td>6</td>\n",
       "      <td>7</td>\n",
       "      <td>Open</td>\n",
       "      <td>Operational resilience</td>\n",
       "      <td>2021-03</td>\n",
       "      <td>entity's ability to withstand and recover from...</td>\n",
       "      <td>operational resilience entity s ability to wit...</td>\n",
       "      <td>76</td>\n",
       "      <td>11</td>\n",
       "      <td>[operational, resilience, entity, s, ability, ...</td>\n",
       "      <td>operational resilience entity s ability to wit...</td>\n",
       "      <td>withstand recover shock,withstand recover,resi...</td>\n",
       "    </tr>\n",
       "    <tr>\n",
       "      <td>7</td>\n",
       "      <td>8</td>\n",
       "      <td>Open</td>\n",
       "      <td>Conduct and culture</td>\n",
       "      <td>2020-12</td>\n",
       "      <td>inappropriate, unethical or unlawful behaviour...</td>\n",
       "      <td>conduct and culture inappropriate unethical or...</td>\n",
       "      <td>122</td>\n",
       "      <td>18</td>\n",
       "      <td>[conduct, and, culture, inappropriate, unethic...</td>\n",
       "      <td>conduct and culture inappropriate unethical or...</td>\n",
       "      <td>unlawful behaviour part organisation managemen...</td>\n",
       "    </tr>\n",
       "    <tr>\n",
       "      <td>8</td>\n",
       "      <td>9</td>\n",
       "      <td>Closed</td>\n",
       "      <td>Reputation</td>\n",
       "      <td>2020-10</td>\n",
       "      <td>poor coordination of the decisions made by dif...</td>\n",
       "      <td>reputation poor coordination of the decision m...</td>\n",
       "      <td>92</td>\n",
       "      <td>13</td>\n",
       "      <td>[reputation, poor, coordination, of, the, deci...</td>\n",
       "      <td>reputation poor coordination of the decision m...</td>\n",
       "      <td>unit function,reputation poor coordination dec...</td>\n",
       "    </tr>\n",
       "    <tr>\n",
       "      <td>9</td>\n",
       "      <td>10</td>\n",
       "      <td>Closed</td>\n",
       "      <td>perceived reputational risk</td>\n",
       "      <td>2020-09</td>\n",
       "      <td>oil drillers and gun manufacturers</td>\n",
       "      <td>perceived reputational risk oil drillers and g...</td>\n",
       "      <td>62</td>\n",
       "      <td>8</td>\n",
       "      <td>[perceived, reputational, risk, oil, drillers,...</td>\n",
       "      <td>perceived reputational risk oil drillers and g...</td>\n",
       "      <td>risk oil drillers gun manufacturer,risk oil dr...</td>\n",
       "    </tr>\n",
       "  </tbody>\n",
       "</table>\n",
       "</div>"
      ],
      "text/plain": [
       "   incident_id     status                                         name  \\\n",
       "0            1       Open  Hidden Financial Risks That Regulators Miss   \n",
       "1            2     Closed  Environmental, social and governance issues   \n",
       "2            3      Draft                                Cybersecurity   \n",
       "3            4  Cancelled                                       Credit   \n",
       "4            5      Draft                        Regulatory/compliance   \n",
       "5            6       Open                                    Strategic   \n",
       "6            7       Open                       Operational resilience   \n",
       "7            8       Open                          Conduct and culture   \n",
       "8            9     Closed                                   Reputation   \n",
       "9           10     Closed                  perceived reputational risk   \n",
       "\n",
       "    period                                        description  \\\n",
       "0  2021-02  Behavioral economists have shown that people a...   \n",
       "1  2021-01  brings to mind environmental issues like clima...   \n",
       "2  2021-01        unwanted or unexpected cyber security event   \n",
       "3  2021-03  possibility of a loss resulting from a borrowe...   \n",
       "4  2021-03  organization's adherence to laws, regulations,...   \n",
       "5  2021-03  arise from the fundamental decisions that dire...   \n",
       "6  2021-03  entity's ability to withstand and recover from...   \n",
       "7  2020-12  inappropriate, unethical or unlawful behaviour...   \n",
       "8  2020-10  poor coordination of the decisions made by dif...   \n",
       "9  2020-09                 oil drillers and gun manufacturers   \n",
       "\n",
       "                                    text to be mined  length  word_count  \\\n",
       "0  hidden financial risk that regulator miss beha...     251          39   \n",
       "1  environmental social and governance issue brin...     120          16   \n",
       "2  cybersecurity unwanted or unexpected cyber sec...      57           7   \n",
       "3  credit possibility of a loss resulting from a ...     112          19   \n",
       "4  regulatory compliance organization s adherence...     131          16   \n",
       "5  strategic arise from the fundamental decision ...     106          14   \n",
       "6  operational resilience entity s ability to wit...      76          11   \n",
       "7  conduct and culture inappropriate unethical or...     122          18   \n",
       "8  reputation poor coordination of the decision m...      92          13   \n",
       "9  perceived reputational risk oil drillers and g...      62           8   \n",
       "\n",
       "                                            raw_text  \\\n",
       "0  [hidden, financial, risks, that, regulators, m...   \n",
       "1  [environmental, social, and, governance, issue...   \n",
       "2  [cybersecurity, unwanted, or, unexpected, cybe...   \n",
       "3  [credit, possibility, of, a, loss, resulting, ...   \n",
       "4  [regulatory, compliance, organization, s, adhe...   \n",
       "5  [strategic, arise, from, the, fundamental, dec...   \n",
       "6  [operational, resilience, entity, s, ability, ...   \n",
       "7  [conduct, and, culture, inappropriate, unethic...   \n",
       "8  [reputation, poor, coordination, of, the, deci...   \n",
       "9  [perceived, reputational, risk, oil, drillers,...   \n",
       "\n",
       "                          stemmed_or_lemmatized_text  \\\n",
       "0  hidden financial risk that regulator miss beha...   \n",
       "1  environmental social and governance issue brin...   \n",
       "2  cybersecurity unwanted or unexpected cyber sec...   \n",
       "3  credit possibility of a loss resulting from a ...   \n",
       "4  regulatory compliance organization s adherence...   \n",
       "5  strategic arise from the fundamental decision ...   \n",
       "6  operational resilience entity s ability to wit...   \n",
       "7  conduct and culture inappropriate unethical or...   \n",
       "8  reputation poor coordination of the decision m...   \n",
       "9  perceived reputational risk oil drillers and g...   \n",
       "\n",
       "       keywords (all combinations) without weighting  \n",
       "0  thumb judgment concluding rising market,thumb ...  \n",
       "1  social governance issue brings mind,social gov...  \n",
       "2  unwanted unexpected cyber security event,unwan...  \n",
       "3  resulting borrower failure repay loan,resultin...  \n",
       "4  specification relevant business process,specif...  \n",
       "5  take concerning organisation objective,take co...  \n",
       "6  withstand recover shock,withstand recover,resi...  \n",
       "7  unlawful behaviour part organisation managemen...  \n",
       "8  unit function,reputation poor coordination dec...  \n",
       "9  risk oil drillers gun manufacturer,risk oil dr...  "
      ]
     },
     "execution_count": 344,
     "metadata": {},
     "output_type": "execute_result"
    }
   ],
   "source": [
    "df_tfidf"
   ]
  },
  {
   "cell_type": "markdown",
   "metadata": {},
   "source": [
    "# Print keywords based on incident ID"
   ]
  },
  {
   "cell_type": "code",
   "execution_count": 345,
   "metadata": {},
   "outputs": [
    {
     "name": "stdout",
     "output_type": "stream",
     "text": [
      "\n",
      "===ID===\n",
      "4\n",
      "\n",
      "===Name===\n",
      "Credit\n",
      "\n",
      "===Description===\n",
      "possibility of a loss resulting from a borrower's failure to repay a loan or meet contractual obligations\n",
      "\n",
      "===Raw text===\n",
      "['credit', 'possibility', 'of', 'a', 'loss', 'resulting', 'from', 'a', 'borrower', 's', 'failure', 'to', 'repay', 'a', 'loan', 'or', 'meet', 'contractual', 'obligations']\n",
      "\n",
      "===Stemmed/lemmatized text===\n",
      "credit possibility of a loss resulting from a borrower s failure to repay a loan or meet contractual obligation\n",
      "\n",
      "===Keywords===\n",
      "resulting borrower failure repay loan 0.171\n",
      "resulting borrower failure repay 0.171\n",
      "resulting borrower failure 0.171\n",
      "resulting borrower 0.171\n",
      "repay loan meet contractual obligation 0.171\n",
      "repay loan meet contractual 0.171\n",
      "repay loan meet 0.171\n",
      "repay loan 0.171\n",
      "possibility loss resulting borrower failure 0.171\n",
      "possibility loss resulting borrower 0.171\n",
      "\n",
      "===Keywords without weighting===\n",
      "resulting borrower failure repay loan,resulting borrower failure repay,resulting borrower failure,resulting borrower,repay loan meet contractual obligation,repay loan meet contractual,repay loan meet,repay loan,possibility loss resulting borrower failure,possibility loss resulting borrower,\n"
     ]
    }
   ],
   "source": [
    "def get_keywords(id):\n",
    "    # get the document that we want to extract keywords from\n",
    "    doc = docs_text_to_be_mined[id]\n",
    "    docs_id = df_tfidf['incident_id'].tolist()\n",
    "    docs_name = df_tfidf['name'].tolist()\n",
    "    docs_description = df_tfidf['description'].tolist()\n",
    "    docs_raw_text = df_tfidf['raw_text'].tolist()\n",
    "    docs_stemmed_or_lemmatized_text = df_tfidf['stemmed_or_lemmatized_text'].tolist()\n",
    "    \n",
    "    # generate tf-idf for the given document\n",
    "    tf_idf_vector = tfidf_transformer.transform(cv.transform([doc]))\n",
    "\n",
    "    # sort the tf-idf vectors by descending order of scores\n",
    "    sorted_items = sort_coo(tf_idf_vector.tocoo())\n",
    "\n",
    "    # extract only the top n; n here is 10\n",
    "    keywords = extract_topn_from_vector(feature_names, sorted_items, 10)\n",
    "\n",
    "    # extract only the top n; n here is 10 (without weighting)\n",
    "    keywords_only_without_weighting = extract_topn_from_vector_keyword_only(feature_names, sorted_items, 10)\n",
    "\n",
    "    # now print the results\n",
    "    print(\"\\n===ID===\")\n",
    "    print(docs_id[id])\n",
    "    print(\"\\n===Name===\")\n",
    "    print(docs_name[id])\n",
    "    print(\"\\n===Description===\")\n",
    "    print(docs_description[id])\n",
    "    print(\"\\n===Raw text===\")\n",
    "    print(docs_raw_text[id])\n",
    "    print(\"\\n===Stemmed/lemmatized text===\")\n",
    "    print(docs_stemmed_or_lemmatized_text[id])    \n",
    "    print(\"\\n===Keywords===\")\n",
    "    for k in keywords:\n",
    "        print(k, keywords[k])\n",
    "    print(\"\\n===Keywords without weighting===\")\n",
    "    print(keywords_only_without_weighting)\n",
    "\n",
    "    \n",
    "# Let's look at a specific incident (enter the ID)\n",
    "id=3\n",
    "get_keywords(id)"
   ]
  },
  {
   "cell_type": "markdown",
   "metadata": {},
   "source": [
    "# Generating keywords for a batch of documents (with weighting) | ALL COMBINATIONS"
   ]
  },
  {
   "cell_type": "code",
   "execution_count": 346,
   "metadata": {},
   "outputs": [
    {
     "name": "stdout",
     "output_type": "stream",
     "text": [
      "10\n"
     ]
    }
   ],
   "source": [
    "# generate tf-idf for all documents in your list. docs_text_to_be_mined has 500 documents\n",
    "tf_idf_vector = tfidf_transformer.transform(cv.transform(docs_text_to_be_mined))\n",
    "\n",
    "print(tf_idf_vector.shape[0])\n",
    "\n",
    "results=[]\n",
    "for i in range(tf_idf_vector.shape[0]):\n",
    "    \n",
    "    # get vector for a single document\n",
    "    curr_vector = tf_idf_vector[i]\n",
    "    \n",
    "    # sort the tf-idf vector by descending order of scores\n",
    "    sorted_items = sort_coo(curr_vector.tocoo())\n",
    "    \n",
    "    # extract only the top n; n here is 10 - keywords only, without weighting\n",
    "    keywords=extract_topn_from_vector(feature_names, sorted_items, 10)\n",
    "    \n",
    "    results.append(keywords)\n",
    "    \n",
    "df_tfidf['keywords (all combinations) with weighting'] = results\n",
    "\n",
    "# drop unnecessary columns\n",
    "df_tfidf.drop(['raw_text', 'stemmed_or_lemmatized_text'], axis = 1)\n",
    "\n",
    "# df_tfidf.rename(columns={'text': 'text to be mined'})\n",
    "df_tfidf.to_excel('outputs/incidents by period with keywords (all combinations) with weighting.xlsx')"
   ]
  },
  {
   "cell_type": "code",
   "execution_count": 347,
   "metadata": {},
   "outputs": [
    {
     "data": {
      "text/html": [
       "<div>\n",
       "<style scoped>\n",
       "    .dataframe tbody tr th:only-of-type {\n",
       "        vertical-align: middle;\n",
       "    }\n",
       "\n",
       "    .dataframe tbody tr th {\n",
       "        vertical-align: top;\n",
       "    }\n",
       "\n",
       "    .dataframe thead th {\n",
       "        text-align: right;\n",
       "    }\n",
       "</style>\n",
       "<table border=\"1\" class=\"dataframe\">\n",
       "  <thead>\n",
       "    <tr style=\"text-align: right;\">\n",
       "      <th></th>\n",
       "      <th>incident_id</th>\n",
       "      <th>status</th>\n",
       "      <th>name</th>\n",
       "      <th>period</th>\n",
       "      <th>description</th>\n",
       "      <th>text to be mined</th>\n",
       "      <th>length</th>\n",
       "      <th>word_count</th>\n",
       "      <th>raw_text</th>\n",
       "      <th>stemmed_or_lemmatized_text</th>\n",
       "      <th>keywords (all combinations) without weighting</th>\n",
       "      <th>keywords (all combinations) with weighting</th>\n",
       "    </tr>\n",
       "  </thead>\n",
       "  <tbody>\n",
       "    <tr>\n",
       "      <td>0</td>\n",
       "      <td>1</td>\n",
       "      <td>Open</td>\n",
       "      <td>Hidden Financial Risks That Regulators Miss</td>\n",
       "      <td>2021-02</td>\n",
       "      <td>Behavioral economists have shown that people a...</td>\n",
       "      <td>hidden financial risk that regulator miss beha...</td>\n",
       "      <td>251</td>\n",
       "      <td>39</td>\n",
       "      <td>[hidden, financial, risks, that, regulators, m...</td>\n",
       "      <td>hidden financial risk that regulator miss beha...</td>\n",
       "      <td>thumb judgment concluding rising market,thumb ...</td>\n",
       "      <td>{'thumb judgment concluding rising market': 0....</td>\n",
       "    </tr>\n",
       "    <tr>\n",
       "      <td>1</td>\n",
       "      <td>2</td>\n",
       "      <td>Closed</td>\n",
       "      <td>Environmental, social and governance issues</td>\n",
       "      <td>2021-01</td>\n",
       "      <td>brings to mind environmental issues like clima...</td>\n",
       "      <td>environmental social and governance issue brin...</td>\n",
       "      <td>120</td>\n",
       "      <td>16</td>\n",
       "      <td>[environmental, social, and, governance, issue...</td>\n",
       "      <td>environmental social and governance issue brin...</td>\n",
       "      <td>social governance issue brings mind,social gov...</td>\n",
       "      <td>{'social governance issue brings mind': 0.154,...</td>\n",
       "    </tr>\n",
       "    <tr>\n",
       "      <td>2</td>\n",
       "      <td>3</td>\n",
       "      <td>Draft</td>\n",
       "      <td>Cybersecurity</td>\n",
       "      <td>2021-01</td>\n",
       "      <td>unwanted or unexpected cyber security event</td>\n",
       "      <td>cybersecurity unwanted or unexpected cyber sec...</td>\n",
       "      <td>57</td>\n",
       "      <td>7</td>\n",
       "      <td>[cybersecurity, unwanted, or, unexpected, cybe...</td>\n",
       "      <td>cybersecurity unwanted or unexpected cyber sec...</td>\n",
       "      <td>unwanted unexpected cyber security event,unwan...</td>\n",
       "      <td>{'unwanted unexpected cyber security event': 0...</td>\n",
       "    </tr>\n",
       "    <tr>\n",
       "      <td>3</td>\n",
       "      <td>4</td>\n",
       "      <td>Cancelled</td>\n",
       "      <td>Credit</td>\n",
       "      <td>2021-03</td>\n",
       "      <td>possibility of a loss resulting from a borrowe...</td>\n",
       "      <td>credit possibility of a loss resulting from a ...</td>\n",
       "      <td>112</td>\n",
       "      <td>19</td>\n",
       "      <td>[credit, possibility, of, a, loss, resulting, ...</td>\n",
       "      <td>credit possibility of a loss resulting from a ...</td>\n",
       "      <td>resulting borrower failure repay loan,resultin...</td>\n",
       "      <td>{'resulting borrower failure repay loan': 0.17...</td>\n",
       "    </tr>\n",
       "    <tr>\n",
       "      <td>4</td>\n",
       "      <td>5</td>\n",
       "      <td>Draft</td>\n",
       "      <td>Regulatory/compliance</td>\n",
       "      <td>2021-03</td>\n",
       "      <td>organization's adherence to laws, regulations,...</td>\n",
       "      <td>regulatory compliance organization s adherence...</td>\n",
       "      <td>131</td>\n",
       "      <td>16</td>\n",
       "      <td>[regulatory, compliance, organization, s, adhe...</td>\n",
       "      <td>regulatory compliance organization s adherence...</td>\n",
       "      <td>specification relevant business process,specif...</td>\n",
       "      <td>{'specification relevant business process': 0....</td>\n",
       "    </tr>\n",
       "    <tr>\n",
       "      <td>5</td>\n",
       "      <td>6</td>\n",
       "      <td>Open</td>\n",
       "      <td>Strategic</td>\n",
       "      <td>2021-03</td>\n",
       "      <td>arise from the fundamental decisions that dire...</td>\n",
       "      <td>strategic arise from the fundamental decision ...</td>\n",
       "      <td>106</td>\n",
       "      <td>14</td>\n",
       "      <td>[strategic, arise, from, the, fundamental, dec...</td>\n",
       "      <td>strategic arise from the fundamental decision ...</td>\n",
       "      <td>take concerning organisation objective,take co...</td>\n",
       "      <td>{'take concerning organisation objective': 0.1...</td>\n",
       "    </tr>\n",
       "    <tr>\n",
       "      <td>6</td>\n",
       "      <td>7</td>\n",
       "      <td>Open</td>\n",
       "      <td>Operational resilience</td>\n",
       "      <td>2021-03</td>\n",
       "      <td>entity's ability to withstand and recover from...</td>\n",
       "      <td>operational resilience entity s ability to wit...</td>\n",
       "      <td>76</td>\n",
       "      <td>11</td>\n",
       "      <td>[operational, resilience, entity, s, ability, ...</td>\n",
       "      <td>operational resilience entity s ability to wit...</td>\n",
       "      <td>withstand recover shock,withstand recover,resi...</td>\n",
       "      <td>{'withstand recover shock': 0.236, 'withstand ...</td>\n",
       "    </tr>\n",
       "    <tr>\n",
       "      <td>7</td>\n",
       "      <td>8</td>\n",
       "      <td>Open</td>\n",
       "      <td>Conduct and culture</td>\n",
       "      <td>2020-12</td>\n",
       "      <td>inappropriate, unethical or unlawful behaviour...</td>\n",
       "      <td>conduct and culture inappropriate unethical or...</td>\n",
       "      <td>122</td>\n",
       "      <td>18</td>\n",
       "      <td>[conduct, and, culture, inappropriate, unethic...</td>\n",
       "      <td>conduct and culture inappropriate unethical or...</td>\n",
       "      <td>unlawful behaviour part organisation managemen...</td>\n",
       "      <td>{'unlawful behaviour part organisation managem...</td>\n",
       "    </tr>\n",
       "    <tr>\n",
       "      <td>8</td>\n",
       "      <td>9</td>\n",
       "      <td>Closed</td>\n",
       "      <td>Reputation</td>\n",
       "      <td>2020-10</td>\n",
       "      <td>poor coordination of the decisions made by dif...</td>\n",
       "      <td>reputation poor coordination of the decision m...</td>\n",
       "      <td>92</td>\n",
       "      <td>13</td>\n",
       "      <td>[reputation, poor, coordination, of, the, deci...</td>\n",
       "      <td>reputation poor coordination of the decision m...</td>\n",
       "      <td>unit function,reputation poor coordination dec...</td>\n",
       "      <td>{'unit function': 0.196, 'reputation poor coor...</td>\n",
       "    </tr>\n",
       "    <tr>\n",
       "      <td>9</td>\n",
       "      <td>10</td>\n",
       "      <td>Closed</td>\n",
       "      <td>perceived reputational risk</td>\n",
       "      <td>2020-09</td>\n",
       "      <td>oil drillers and gun manufacturers</td>\n",
       "      <td>perceived reputational risk oil drillers and g...</td>\n",
       "      <td>62</td>\n",
       "      <td>8</td>\n",
       "      <td>[perceived, reputational, risk, oil, drillers,...</td>\n",
       "      <td>perceived reputational risk oil drillers and g...</td>\n",
       "      <td>risk oil drillers gun manufacturer,risk oil dr...</td>\n",
       "      <td>{'risk oil drillers gun manufacturer': 0.236, ...</td>\n",
       "    </tr>\n",
       "  </tbody>\n",
       "</table>\n",
       "</div>"
      ],
      "text/plain": [
       "   incident_id     status                                         name  \\\n",
       "0            1       Open  Hidden Financial Risks That Regulators Miss   \n",
       "1            2     Closed  Environmental, social and governance issues   \n",
       "2            3      Draft                                Cybersecurity   \n",
       "3            4  Cancelled                                       Credit   \n",
       "4            5      Draft                        Regulatory/compliance   \n",
       "5            6       Open                                    Strategic   \n",
       "6            7       Open                       Operational resilience   \n",
       "7            8       Open                          Conduct and culture   \n",
       "8            9     Closed                                   Reputation   \n",
       "9           10     Closed                  perceived reputational risk   \n",
       "\n",
       "    period                                        description  \\\n",
       "0  2021-02  Behavioral economists have shown that people a...   \n",
       "1  2021-01  brings to mind environmental issues like clima...   \n",
       "2  2021-01        unwanted or unexpected cyber security event   \n",
       "3  2021-03  possibility of a loss resulting from a borrowe...   \n",
       "4  2021-03  organization's adherence to laws, regulations,...   \n",
       "5  2021-03  arise from the fundamental decisions that dire...   \n",
       "6  2021-03  entity's ability to withstand and recover from...   \n",
       "7  2020-12  inappropriate, unethical or unlawful behaviour...   \n",
       "8  2020-10  poor coordination of the decisions made by dif...   \n",
       "9  2020-09                 oil drillers and gun manufacturers   \n",
       "\n",
       "                                    text to be mined  length  word_count  \\\n",
       "0  hidden financial risk that regulator miss beha...     251          39   \n",
       "1  environmental social and governance issue brin...     120          16   \n",
       "2  cybersecurity unwanted or unexpected cyber sec...      57           7   \n",
       "3  credit possibility of a loss resulting from a ...     112          19   \n",
       "4  regulatory compliance organization s adherence...     131          16   \n",
       "5  strategic arise from the fundamental decision ...     106          14   \n",
       "6  operational resilience entity s ability to wit...      76          11   \n",
       "7  conduct and culture inappropriate unethical or...     122          18   \n",
       "8  reputation poor coordination of the decision m...      92          13   \n",
       "9  perceived reputational risk oil drillers and g...      62           8   \n",
       "\n",
       "                                            raw_text  \\\n",
       "0  [hidden, financial, risks, that, regulators, m...   \n",
       "1  [environmental, social, and, governance, issue...   \n",
       "2  [cybersecurity, unwanted, or, unexpected, cybe...   \n",
       "3  [credit, possibility, of, a, loss, resulting, ...   \n",
       "4  [regulatory, compliance, organization, s, adhe...   \n",
       "5  [strategic, arise, from, the, fundamental, dec...   \n",
       "6  [operational, resilience, entity, s, ability, ...   \n",
       "7  [conduct, and, culture, inappropriate, unethic...   \n",
       "8  [reputation, poor, coordination, of, the, deci...   \n",
       "9  [perceived, reputational, risk, oil, drillers,...   \n",
       "\n",
       "                          stemmed_or_lemmatized_text  \\\n",
       "0  hidden financial risk that regulator miss beha...   \n",
       "1  environmental social and governance issue brin...   \n",
       "2  cybersecurity unwanted or unexpected cyber sec...   \n",
       "3  credit possibility of a loss resulting from a ...   \n",
       "4  regulatory compliance organization s adherence...   \n",
       "5  strategic arise from the fundamental decision ...   \n",
       "6  operational resilience entity s ability to wit...   \n",
       "7  conduct and culture inappropriate unethical or...   \n",
       "8  reputation poor coordination of the decision m...   \n",
       "9  perceived reputational risk oil drillers and g...   \n",
       "\n",
       "       keywords (all combinations) without weighting  \\\n",
       "0  thumb judgment concluding rising market,thumb ...   \n",
       "1  social governance issue brings mind,social gov...   \n",
       "2  unwanted unexpected cyber security event,unwan...   \n",
       "3  resulting borrower failure repay loan,resultin...   \n",
       "4  specification relevant business process,specif...   \n",
       "5  take concerning organisation objective,take co...   \n",
       "6  withstand recover shock,withstand recover,resi...   \n",
       "7  unlawful behaviour part organisation managemen...   \n",
       "8  unit function,reputation poor coordination dec...   \n",
       "9  risk oil drillers gun manufacturer,risk oil dr...   \n",
       "\n",
       "          keywords (all combinations) with weighting  \n",
       "0  {'thumb judgment concluding rising market': 0....  \n",
       "1  {'social governance issue brings mind': 0.154,...  \n",
       "2  {'unwanted unexpected cyber security event': 0...  \n",
       "3  {'resulting borrower failure repay loan': 0.17...  \n",
       "4  {'specification relevant business process': 0....  \n",
       "5  {'take concerning organisation objective': 0.1...  \n",
       "6  {'withstand recover shock': 0.236, 'withstand ...  \n",
       "7  {'unlawful behaviour part organisation managem...  \n",
       "8  {'unit function': 0.196, 'reputation poor coor...  \n",
       "9  {'risk oil drillers gun manufacturer': 0.236, ...  "
      ]
     },
     "execution_count": 347,
     "metadata": {},
     "output_type": "execute_result"
    }
   ],
   "source": [
    "df_tfidf"
   ]
  },
  {
   "cell_type": "code",
   "execution_count": 348,
   "metadata": {},
   "outputs": [],
   "source": [
    "import random\n",
    "import numpy\n",
    "\n",
    "from matplotlib import pyplot as plt"
   ]
  },
  {
   "cell_type": "code",
   "execution_count": 349,
   "metadata": {},
   "outputs": [
    {
     "data": {
      "text/plain": [
       "<matplotlib.axes._subplots.AxesSubplot at 0x1a662108>"
      ]
     },
     "execution_count": 349,
     "metadata": {},
     "output_type": "execute_result"
    },
    {
     "data": {
      "image/png": "[encoded data removed]",
      "text/plain": [
       "<Figure size 432x288 with 1 Axes>"
      ]
     },
     "metadata": {
      "needs_background": "light"
     },
     "output_type": "display_data"
    }
   ],
   "source": [
    "df_tfidf[df_tfidf.period.eq('2021-03')]['length'].hist(bins=50, alpha=0.7)"
   ]
  },
  {
   "cell_type": "code",
   "execution_count": 350,
   "metadata": {},
   "outputs": [
    {
     "data": {
      "text/plain": [
       "<matplotlib.axes._subplots.AxesSubplot at 0x1b72a6c8>"
      ]
     },
     "execution_count": 350,
     "metadata": {},
     "output_type": "execute_result"
    },
    {
     "data": {
      "image/png": "[encoded data removed]",
      "text/plain": [
       "<Figure size 432x288 with 1 Axes>"
      ]
     },
     "metadata": {
      "needs_background": "light"
     },
     "output_type": "display_data"
    }
   ],
   "source": [
    "df_tfidf[df_tfidf.period.eq('2021-03')]['word_count'].hist(bins=50, alpha=0.7)"
   ]
  },
  {
   "cell_type": "code",
   "execution_count": null,
   "metadata": {},
   "outputs": [],
   "source": []
  },
  {
   "cell_type": "code",
   "execution_count": null,
   "metadata": {},
   "outputs": [],
   "source": []
  }
 ],
 "metadata": {
  "kernelspec": {
   "display_name": "Python 3",
   "language": "python",
   "name": "python3"
  },
  "language_info": {
   "codemirror_mode": {
    "name": "ipython",
    "version": 3
   },
   "file_extension": ".py",
   "mimetype": "text/x-python",
   "name": "python",
   "nbconvert_exporter": "python",
   "pygments_lexer": "ipython3",
   "version": "3.7.4"
  }
 },
 "nbformat": 4,
 "nbformat_minor": 2
}
